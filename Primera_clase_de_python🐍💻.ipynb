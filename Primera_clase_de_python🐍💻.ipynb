{
  "nbformat": 4,
  "nbformat_minor": 0,
  "metadata": {
    "colab": {
      "provenance": [],
      "authorship_tag": "ABX9TyNxTQVNAmYid82xBLsbaUhp",
      "include_colab_link": true
    },
    "kernelspec": {
      "name": "python3",
      "display_name": "Python 3"
    },
    "language_info": {
      "name": "python"
    }
  },
  "cells": [
    {
      "cell_type": "markdown",
      "metadata": {
        "id": "view-in-github",
        "colab_type": "text"
      },
      "source": [
        "<a href=\"https://colab.research.google.com/github/pastboss16/Primera-clase-python/blob/main/Primera_clase_de_python%F0%9F%90%8D%F0%9F%92%BB.ipynb\" target=\"_parent\"><img src=\"https://colab.research.google.com/assets/colab-badge.svg\" alt=\"Open In Colab\"/></a>"
      ]
    },
    {
      "cell_type": "markdown",
      "source": [
        "# 🧠 Índice del curso \"Intro to Python\" (Etapa 1: Básico a Intermedio)"
      ],
      "metadata": {
        "id": "qS5qQpQtXDqC"
      }
    },
    {
      "cell_type": "markdown",
      "source": [
        "# 🐍 Curso de Introducción a Python – Parte 1"
      ],
      "metadata": {
        "id": "veZivOIdXdOE"
      }
    },
    {
      "cell_type": "markdown",
      "source": [
        "✅ Sección 1: Introducción a Python"
      ],
      "metadata": {
        "id": "YTM5vK9NXnSV"
      }
    },
    {
      "cell_type": "code",
      "execution_count": null,
      "metadata": {
        "colab": {
          "base_uri": "https://localhost:8080/",
          "height": 53
        },
        "id": "6xRkBHm-WX1i",
        "outputId": "4a0c02e6-235e-4266-89fa-280dc780cff3"
      },
      "outputs": [
        {
          "output_type": "stream",
          "name": "stdout",
          "text": [
            "¡Hola, mundo!\n"
          ]
        },
        {
          "output_type": "execute_result",
          "data": {
            "text/plain": [
              "'\\nEsto es un comentario\\nde varias líneas (usando string triple)\\n'"
            ],
            "application/vnd.google.colaboratory.intrinsic+json": {
              "type": "string"
            }
          },
          "metadata": {},
          "execution_count": 1
        }
      ],
      "source": [
        "# ¿Qué es Python?\n",
        "\"\"\"\n",
        "Python es un lenguaje de programación interpretado, de alto nivel y fácil de aprender.\n",
        "Se usa en desarrollo web, análisis de datos, inteligencia artificial, automatización, videojuegos y más.\n",
        "\"\"\"\n",
        "\n",
        "# Primer programa en Python\n",
        "print(\"¡Hola, mundo!\")  # Este es el clásico primer programa\n",
        "\n",
        "# Comentarios en Python\n",
        "# Esto es un comentario de una línea\n",
        "\n",
        "\"\"\"\n",
        "Esto es un comentario\n",
        "de varias líneas (usando string triple)\n",
        "\"\"\""
      ]
    },
    {
      "cell_type": "markdown",
      "source": [
        "# ✅ Sección 2: Variables y Tipos de Datos\n",
        "\n"
      ],
      "metadata": {
        "id": "JeBCWDE7aOtc"
      }
    },
    {
      "cell_type": "code",
      "source": [
        "# Variables: no es necesario declarar el tipo\n",
        "nombre = \"Carlos\"\n",
        "edad = 25\n",
        "altura = 1.75\n",
        "es_estudiante = True\n",
        "\n",
        "# Mostrar el tipo de dato\n",
        "print(type(nombre))       # <class 'str'>\n",
        "print(type(edad))         # <class 'int'>\n",
        "print(type(altura))       # <class 'float'>\n",
        "print(type(es_estudiante)) # <class 'bool'>\n",
        "\n",
        "# Conversión de tipos\n",
        "edad_str = str(edad)\n",
        "altura_entera = int(altura)\n",
        "\n",
        "print(\"Edad como string:\", edad_str)\n",
        "print(\"Altura como entero:\", altura_entera)"
      ],
      "metadata": {
        "id": "a8xCBPU8aW9j"
      },
      "execution_count": null,
      "outputs": []
    },
    {
      "cell_type": "markdown",
      "source": [
        "🧠 Sección 2: Variables y Tipos de Datos"
      ],
      "metadata": {
        "id": "pBA5sUEiaYI4"
      }
    },
    {
      "cell_type": "markdown",
      "source": [
        "📌 ¿Qué es una variable?\n",
        "Una variable es como una caja donde guardamos información. Esa información puede ser un número, un texto, un   valor verdadero o falso, etc."
      ],
      "metadata": {
        "id": "etY_xuwKaboF"
      }
    },
    {
      "cell_type": "markdown",
      "source": [
        "En Python, no necesitas decirle de qué tipo es la variable. Python lo entiende por sí solo.\n"
      ],
      "metadata": {
        "id": "8Z-2joAXae6l"
      }
    },
    {
      "cell_type": "code",
      "source": [
        "nombre = \"Carlos\"      # Esto es un texto (string)\n",
        "edad = 25              # Esto es un número entero (int)\n",
        "altura = 1.75          # Esto es un número decimal (float)\n",
        "es_estudiante = True   # Esto es un valor booleano (True o False)"
      ],
      "metadata": {
        "id": "Ulvn8DQ_asNV"
      },
      "execution_count": null,
      "outputs": []
    },
    {
      "cell_type": "markdown",
      "source": [
        "📌 Tipos de datos principales"
      ],
      "metadata": {
        "id": "3EkvxIl2azRk"
      }
    },
    {
      "cell_type": "markdown",
      "source": [
        "str → Texto (string): \"Hola\"\n",
        "\n",
        "int → Números enteros: 10\n",
        "\n",
        "float → Números decimales: 3.14\n",
        "\n",
        "bool → Verdadero o falso: True / False"
      ],
      "metadata": {
        "id": "mWoyoIhsa1wT"
      }
    },
    {
      "cell_type": "markdown",
      "source": [
        "🧪 Ver el tipo de una variable"
      ],
      "metadata": {
        "id": "27_hMjz3a4g2"
      }
    },
    {
      "cell_type": "code",
      "source": [
        "print(type(nombre))      # Muestra: <class 'str'>\n",
        "print(type(edad))        # Muestra: <class 'int'>"
      ],
      "metadata": {
        "id": "EYsU-fXta_6R"
      },
      "execution_count": null,
      "outputs": []
    },
    {
      "cell_type": "markdown",
      "source": [
        "🔁 Conversión de tipos"
      ],
      "metadata": {
        "id": "b-XR6DX3bG_i"
      }
    },
    {
      "cell_type": "markdown",
      "source": [
        "A veces necesitamos cambiar un tipo de dato por otro. Por ejemplo:\n",
        "\n"
      ],
      "metadata": {
        "id": "3EdfkkHvbJia"
      }
    },
    {
      "cell_type": "code",
      "source": [
        "edad = 25\n",
        "edad_texto = str(edad)    # Convierte de número a texto\n",
        "print(\"Tu edad es \" + edad_texto)\n",
        "\n",
        "altura = 1.75\n",
        "altura_entera = int(altura)  # Convierte decimal a entero\n",
        "print(\"Altura entera:\", altura_entera)"
      ],
      "metadata": {
        "id": "rW94oVqcbB3b"
      },
      "execution_count": null,
      "outputs": []
    },
    {
      "cell_type": "markdown",
      "source": [
        "**# ✅ Sección 3: Operadores**"
      ],
      "metadata": {
        "id": "oOii74aLbaYG"
      }
    },
    {
      "cell_type": "code",
      "source": [
        "# Aritméticos\n",
        "a = 10\n",
        "b = 3\n",
        "\n",
        "print(\"Suma:\", a + b)\n",
        "print(\"Resta:\", a - b)\n",
        "print(\"Multiplicación:\", a * b)\n",
        "print(\"División:\", a / b)\n",
        "print(\"División entera:\", a // b)\n",
        "print(\"Módulo:\", a % b)\n",
        "print(\"Potencia:\", a ** b)\n",
        "\n",
        "# Comparación\n",
        "print(\"¿a es igual a b?\", a == b)\n",
        "print(\"¿a es mayor que b?\", a > b)\n",
        "\n",
        "# Lógicos\n",
        "x = True\n",
        "y = False\n",
        "\n",
        "print(\"AND:\", x and y)\n",
        "print(\"OR:\", x or y)\n",
        "print(\"NOT x:\", not x)"
      ],
      "metadata": {
        "id": "pELcu9Fjbb0I"
      },
      "execution_count": null,
      "outputs": []
    },
    {
      "cell_type": "markdown",
      "source": [
        "**➕ Sección 3: Operadores**"
      ],
      "metadata": {
        "id": "9wWgYwa_bbWW"
      }
    },
    {
      "cell_type": "markdown",
      "source": [
        "📌 Operadores Aritméticos\n",
        "Sirven para hacer cálculos como sumar, restar, multiplicar..."
      ],
      "metadata": {
        "id": "1ykiE6Kubh5p"
      }
    },
    {
      "cell_type": "code",
      "source": [
        "a = 10\n",
        "b = 3\n",
        "\n",
        "print(\"Suma:\", a + b)\n",
        "print(\"Resta:\", a - b)\n",
        "print(\"Multiplicación:\", a * b)\n",
        "print(\"División:\", a / b)\n",
        "print(\"División entera:\", a // b)\n",
        "print(\"Módulo:\", a % b)       # El resto de la división\n",
        "print(\"Potencia:\", a ** b)    # a elevado a la b"
      ],
      "metadata": {
        "id": "wL_P3bJqbkjL"
      },
      "execution_count": null,
      "outputs": []
    },
    {
      "cell_type": "markdown",
      "source": [
        "**📌 Operadores de Comparación**"
      ],
      "metadata": {
        "id": "bzyYPwbZbwaR"
      }
    },
    {
      "cell_type": "markdown",
      "source": [
        "Sirven para comparar valores. Devuelven True o False.\n"
      ],
      "metadata": {
        "id": "xLtpZ3yrbxDl"
      }
    },
    {
      "cell_type": "code",
      "source": [
        "a = 5\n",
        "b = 10\n",
        "\n",
        "print(a == b)  # ¿Es igual? → False\n",
        "print(a != b)  # ¿Es diferente? → True\n",
        "print(a > b)   # ¿a es mayor? → False\n",
        "print(a < b)   # ¿a es menor? → True"
      ],
      "metadata": {
        "id": "9Kt41CvAb1dx"
      },
      "execution_count": null,
      "outputs": []
    },
    {
      "cell_type": "markdown",
      "source": [
        "📌 Operadores Lógicos"
      ],
      "metadata": {
        "id": "34EnKPKhcO9n"
      }
    },
    {
      "cell_type": "markdown",
      "source": [
        "Nos permiten combinar condiciones.\n",
        "\n"
      ],
      "metadata": {
        "id": "HbNvNr0hcPp-"
      }
    },
    {
      "cell_type": "code",
      "source": [
        "x = True\n",
        "y = False\n",
        "\n",
        "print(x and y)   # Solo es True si ambos son True\n",
        "print(x or y)    # Es True si al menos uno es True\n",
        "print(not x)     # Invierte el valor (True → False"
      ],
      "metadata": {
        "id": "irg15h-kcSa6"
      },
      "execution_count": null,
      "outputs": []
    },
    {
      "cell_type": "markdown",
      "source": [
        "# 🔍 **Sección 4: Condicionales en Python**\n",
        "\n",
        "\n"
      ],
      "metadata": {
        "id": "nNVdiE-AdDS-"
      }
    },
    {
      "cell_type": "code",
      "source": [
        "# Condicional simple\n",
        "edad = 20\n",
        "\n",
        "if edad >= 18:\n",
        "    print(\"Eres mayor de edad.\")\n",
        "else:\n",
        "    print(\"Eres menor de edad.\")\n",
        "\n",
        "# Condicional múltiple\n",
        "nota = 85\n",
        "\n",
        "if nota >= 90:\n",
        "    print(\"Excelente\")\n",
        "elif nota >= 70:\n",
        "    print(\"Bien\")\n",
        "else:\n",
        "    print(\"Necesitas mejorar\")"
      ],
      "metadata": {
        "id": "BgMG5k_PdER4"
      },
      "execution_count": null,
      "outputs": []
    },
    {
      "cell_type": "markdown",
      "source": [
        "🧠 **¿Qué es una condicional?**"
      ],
      "metadata": {
        "id": "LZjtGBNHdHd0"
      }
    },
    {
      "cell_type": "markdown",
      "source": [
        "Una condicional es como tomar una decisión. En la vida real, haces esto todo el tiempo:\n",
        "\n",
        "\"Si está lloviendo, llevo paraguas. Si no, salgo normal.\"\n",
        "\n",
        "**En Python también le puedes decir a la computadora:**\n",
        "“Si pasa esto → haz esto otro”."
      ],
      "metadata": {
        "id": "1RulNhSGdLF2"
      }
    },
    {
      "cell_type": "markdown",
      "source": [
        "**📌 Palabras clave:**\n",
        "if → si la condición es verdadera, se ejecuta el bloque de código.\n",
        "\n",
        "elif → sino si (opcional), para probar otra condición si la primera fue falsa.\n",
        "\n",
        "else → sino, lo que se hace si ninguna condición anterior fue verdadera."
      ],
      "metadata": {
        "id": "CChD9yzHdVSU"
      }
    },
    {
      "cell_type": "markdown",
      "source": [
        "**✅ Ejemplo 1: Verificar si una persona es mayor de edad**"
      ],
      "metadata": {
        "id": "zdUBAKZxd2Wi"
      }
    },
    {
      "cell_type": "code",
      "source": [
        "edad = 18\n",
        "\n",
        "if edad >= 18:\n",
        "    print(\"Eres mayor de edad\")\n",
        "else:\n",
        "    print(\"Eres menor de edad\")"
      ],
      "metadata": {
        "id": "0T9UxSrldNd2"
      },
      "execution_count": null,
      "outputs": []
    },
    {
      "cell_type": "markdown",
      "source": [
        "**🟢 ¿Qué hace este código?**\n",
        "\n",
        "Revisa si edad es mayor o igual a 18.\n",
        "\n",
        "Si sí lo es, muestra el mensaje \"Eres mayor de edad\".\n",
        "\n",
        "Si no lo es, va al else y muestra \"Eres menor de edad\"."
      ],
      "metadata": {
        "id": "9jNZ9QFrd_iD"
      }
    },
    {
      "cell_type": "markdown",
      "source": [
        "**✅ Ejemplo 2: Evaluar calificaciones**"
      ],
      "metadata": {
        "id": "7qYQZckveGY2"
      }
    },
    {
      "cell_type": "code",
      "source": [
        "nota = 85\n",
        "\n",
        "if nota >= 90:\n",
        "    print(\"Excelente\")\n",
        "elif nota >= 70:\n",
        "    print(\"Bien hecho\")\n",
        "elif nota >= 60:\n",
        "    print(\"Pasaste, pero puedes mejorar\")\n",
        "else:\n",
        "    print(\"Reprobaste\")"
      ],
      "metadata": {
        "id": "TF2JTuRCeEMO"
      },
      "execution_count": null,
      "outputs": []
    },
    {
      "cell_type": "markdown",
      "source": [
        "**🟢 ¿Cómo funciona esto?**\n",
        "\n",
        "Primero evalúa si nota >= 90\n",
        "\n",
        "Si no, evalúa si nota >= 70\n",
        "\n",
        "Si tampoco, evalúa si nota >= 60\n",
        "\n",
        "Si ninguna se cumple, cae en el else\n",
        "\n",
        "**➡️ Solo se ejecuta una sola condición, la primera que se cumpla.**"
      ],
      "metadata": {
        "id": "TI-n_6BleNid"
      }
    },
    {
      "cell_type": "markdown",
      "source": [
        "**✅ Ejemplo 3: Usar múltiples condiciones con and, or**"
      ],
      "metadata": {
        "id": "gf1ysLz3eYo6"
      }
    },
    {
      "cell_type": "code",
      "source": [
        "edad = 25\n",
        "tiene_licencia = True\n",
        "\n",
        "if edad >= 18 and tiene_licencia:\n",
        "    print(\"Puedes conducir\")\n",
        "else:\n",
        "    print(\"No puedes conducir\")"
      ],
      "metadata": {
        "id": "ygvzQ-j_eQqQ"
      },
      "execution_count": null,
      "outputs": []
    },
    {
      "cell_type": "markdown",
      "source": [
        "**🔍 En este caso:**\n",
        "\n",
        "and significa que ambas condiciones deben ser verdaderas.\n",
        "\n",
        "Si edad es mayor de 18 Y tiene licencia → puede conducir.\n",
        "\n",
        "Si falta uno de los dos → no puede."
      ],
      "metadata": {
        "id": "lPncAiejemqo"
      }
    },
    {
      "cell_type": "markdown",
      "source": [
        "**✅ Ejemplo 4: Evaluar texto con condicionales**"
      ],
      "metadata": {
        "id": "aQiVMwBHfLcx"
      }
    },
    {
      "cell_type": "code",
      "source": [
        "respuesta = input(\"¿Te gusta Python? (sí/no): \")\n",
        "\n",
        "if respuesta.lower() == \"sí\":\n",
        "    print(\"¡A mí también!\")\n",
        "else:\n",
        "    print(\"Bueno, tal vez cambies de opinión 😉\")"
      ],
      "metadata": {
        "id": "xH_8Q3JUfN4t"
      },
      "execution_count": null,
      "outputs": []
    },
    {
      "cell_type": "markdown",
      "source": [
        "🧠 Aquí usamos .lower() para convertir la respuesta a minúsculas, por si el usuario escribe “SÍ”, “Sí”, “sí”, etc.\n"
      ],
      "metadata": {
        "id": "jjkxkoJifS5B"
      }
    },
    {
      "cell_type": "markdown",
      "source": [
        "# 🔁 **Sección 5: Bucles en Python**"
      ],
      "metadata": {
        "id": "rqMC9vhhf0s-"
      }
    },
    {
      "cell_type": "markdown",
      "source": [
        "**🧠 ¿Qué es un bucle?**\n",
        "\n",
        "Un bucle (también llamado loop) es una estructura que sirve para repetir una acción varias veces, sin tener que escribir el mismo código muchas veces."
      ],
      "metadata": {
        "id": "08eC_8yff41p"
      }
    },
    {
      "cell_type": "markdown",
      "source": [
        "**💬 Ejemplo en la vida real:**\n",
        "\n",
        "\"Voy a hacer 10 flexiones\".\n",
        "En vez de decir: “flexión 1, flexión 2, flexión 3…” puedes usar un bucle."
      ],
      "metadata": {
        "id": "lvgN1uV7f5kS"
      }
    },
    {
      "cell_type": "markdown",
      "source": [
        "**🔸 Tipos de bucles en Python:**"
      ],
      "metadata": {
        "id": "LVCgYXPOgTBj"
      }
    },
    {
      "cell_type": "markdown",
      "source": [
        "for → Para repetir un número definido de veces (sabemos cuántas).\n",
        "\n",
        "while → Para repetir mientras se cumpla una condición (no sabemos cuántas veces)."
      ],
      "metadata": {
        "id": "-dDaxjYYgYWG"
      }
    },
    {
      "cell_type": "markdown",
      "source": [
        "**🔹 Bucle for**"
      ],
      "metadata": {
        "id": "BGN9QnUYgbrr"
      }
    },
    {
      "cell_type": "markdown",
      "source": [
        "**🧾 Sintaxis:**"
      ],
      "metadata": {
        "id": "3mCAifuXgf8k"
      }
    },
    {
      "cell_type": "markdown",
      "source": [
        "**✅ Ejemplo básico:**"
      ],
      "metadata": {
        "id": "bZWfCRD9gh1n"
      }
    },
    {
      "cell_type": "code",
      "source": [
        "for i in range(5):\n",
        "    print(\"Número:\", i)"
      ],
      "metadata": {
        "id": "OifKoQnTf1vD"
      },
      "execution_count": null,
      "outputs": []
    },
    {
      "cell_type": "markdown",
      "source": [
        "**🔍 ¿Qué hace este código?**"
      ],
      "metadata": {
        "id": "iQWSdx3OgxmT"
      }
    },
    {
      "cell_type": "markdown",
      "source": [
        "range(5) genera los números del 0 al 4 (no incluye el 5).\n",
        "\n",
        "La variable i va tomando uno por uno esos valores.\n",
        "\n",
        "print() se ejecuta 5 veces, cada vez con un valor diferente de i."
      ],
      "metadata": {
        "id": "RVLndNN1g0ue"
      }
    },
    {
      "cell_type": "markdown",
      "source": [
        "**📌 Resultado:**"
      ],
      "metadata": {
        "id": "ql_Nn-wJg25H"
      }
    },
    {
      "cell_type": "code",
      "source": [
        "Número: 0\n",
        "Número: 1\n",
        "Número: 2\n",
        "Número: 3\n",
        "Número: 4"
      ],
      "metadata": {
        "id": "jjdBipnVg5zU"
      },
      "execution_count": null,
      "outputs": []
    },
    {
      "cell_type": "markdown",
      "source": [
        "**✅ Ejemplo recorriendo una lista**"
      ],
      "metadata": {
        "id": "6Iw0b0zWg8WB"
      }
    },
    {
      "cell_type": "code",
      "source": [
        "nombres = [\"Ana\", \"Luis\", \"Carlos\"]\n",
        "\n",
        "for nombre in nombres:\n",
        "    print(\"Hola\", nombre)"
      ],
      "metadata": {
        "id": "Uz4R0pD4hSjN"
      },
      "execution_count": null,
      "outputs": []
    },
    {
      "cell_type": "markdown",
      "source": [
        "**📌 Resultado:**"
      ],
      "metadata": {
        "id": "udF2Y231hUub"
      }
    },
    {
      "cell_type": "markdown",
      "source": [
        "\n",
        "\n",
        "```\n",
        "  Hola Ana\n",
        "  Hola Luis\n",
        "  Hola Carlos\n",
        "```\n",
        "\n"
      ],
      "metadata": {
        "id": "UuGgXNrRhH-q"
      }
    },
    {
      "cell_type": "markdown",
      "source": [
        "**🔹 Bucle while**"
      ],
      "metadata": {
        "id": "2R9pt20ih40L"
      }
    },
    {
      "cell_type": "markdown",
      "source": [
        "**🧾 Sintaxis:**"
      ],
      "metadata": {
        "id": "PKhdktTiiErD"
      }
    },
    {
      "cell_type": "code",
      "source": [
        "while condición:\n",
        "    # bloque de código que se repite"
      ],
      "metadata": {
        "id": "Wxz4thjHiPcV"
      },
      "execution_count": null,
      "outputs": []
    },
    {
      "cell_type": "markdown",
      "source": [
        "Este tipo de bucle se ejecuta mientras la condición sea verdadera. Se detiene cuando la condición deja de cumplirse."
      ],
      "metadata": {
        "id": "yi6LiS_6iTSV"
      }
    },
    {
      "cell_type": "markdown",
      "source": [
        "**✅ Ejemplo básico:**"
      ],
      "metadata": {
        "id": "PcaCcgYwiXvm"
      }
    },
    {
      "cell_type": "code",
      "source": [
        "contador = 0\n",
        "\n",
        "while contador < 5:\n",
        "    print(\"Contador:\", contador)\n",
        "    contador += 1  # Aumenta el contador"
      ],
      "metadata": {
        "colab": {
          "base_uri": "https://localhost:8080/"
        },
        "id": "4hnn_EiLiVSM",
        "outputId": "bc46b938-696a-4f55-c279-47aa9d714426"
      },
      "execution_count": null,
      "outputs": [
        {
          "output_type": "stream",
          "name": "stdout",
          "text": [
            "Contador: 0\n",
            "Contador: 1\n",
            "Contador: 2\n",
            "Contador: 3\n",
            "Contador: 4\n"
          ]
        }
      ]
    },
    {
      "cell_type": "markdown",
      "source": [
        "**📌 Resultado:**"
      ],
      "metadata": {
        "id": "vZYWz1-4id6W"
      }
    },
    {
      "cell_type": "code",
      "source": [
        "Contador: 0\n",
        "Contador: 1\n",
        "Contador: 2\n",
        "Contador: 3\n",
        "Contador: 4"
      ],
      "metadata": {
        "id": "jXY0F1aKigzL"
      },
      "execution_count": null,
      "outputs": []
    },
    {
      "cell_type": "markdown",
      "source": [
        "Si olvidamos poner contador += 1, el bucle nunca termina y se queda repitiendo para siempre (bucle infinito 🔁)."
      ],
      "metadata": {
        "id": "K2KcKL-xiw36"
      }
    },
    {
      "cell_type": "markdown",
      "source": [
        "**🛑 Control de bucles**"
      ],
      "metadata": {
        "id": "54WYPgZ5i2Po"
      }
    },
    {
      "cell_type": "markdown",
      "source": [
        "🔸 break → Sale del bucle antes de tiempo"
      ],
      "metadata": {
        "id": "F53mfAyKjAjw"
      }
    },
    {
      "cell_type": "code",
      "source": [
        "for i in range(10):\n",
        "    if i == 5:\n",
        "        break\n",
        "    print(i)"
      ],
      "metadata": {
        "id": "YRpCIYp4ixoV"
      },
      "execution_count": null,
      "outputs": []
    },
    {
      "cell_type": "markdown",
      "source": [
        "**📌 Resultado:**"
      ],
      "metadata": {
        "id": "wgGhib2TjOdr"
      }
    },
    {
      "cell_type": "markdown",
      "source": [
        "0\n",
        "\n",
        "1\n",
        "\n",
        "2\n",
        "\n",
        "3\n",
        "\n",
        "4\n"
      ],
      "metadata": {
        "id": "CwcJTXPsjP_L"
      }
    },
    {
      "cell_type": "markdown",
      "source": [
        "Se detiene cuando i llega a 5."
      ],
      "metadata": {
        "id": "dj6OWabNjaOr"
      }
    },
    {
      "cell_type": "markdown",
      "source": [
        "**🔸 continue → Salta esa vuelta del bucle y pasa a la siguiente**"
      ],
      "metadata": {
        "id": "L1Ql326hjdpT"
      }
    },
    {
      "cell_type": "code",
      "source": [
        "for i in range(5):\n",
        "    if i == 2:\n",
        "        continue\n",
        "    print(i)"
      ],
      "metadata": {
        "id": "_uCHJ6D-jWvw"
      },
      "execution_count": null,
      "outputs": []
    },
    {
      "cell_type": "markdown",
      "source": [
        "**📌 Resultado:**"
      ],
      "metadata": {
        "id": "OGnekIh_jknm"
      }
    },
    {
      "cell_type": "markdown",
      "source": [
        "0\n",
        "\n",
        "1\n",
        "\n",
        "3\n",
        "\n",
        "4\n"
      ],
      "metadata": {
        "id": "oUCKS1JqjlwB"
      }
    },
    {
      "cell_type": "markdown",
      "source": [
        "**Se salta el número 2.**"
      ],
      "metadata": {
        "id": "JqEUfDbSjsGD"
      }
    },
    {
      "cell_type": "markdown",
      "source": [
        "# Felicidades por llegar hasta aqui!!!!"
      ],
      "metadata": {
        "id": "2acG3qRXjx-E"
      }
    },
    {
      "cell_type": "markdown",
      "source": [
        "# 🧰 Sección 6: Funciones en Python"
      ],
      "metadata": {
        "id": "L7WJctdYqSfg"
      }
    },
    {
      "cell_type": "markdown",
      "source": [
        "🧠 ¿Qué es una función?\n",
        "\n",
        "Una función es como una receta o una máquina:\n",
        "\n",
        "Le das ciertos ingredientes (entradas o parámetros).\n",
        "\n",
        "Hace algo con ellos (instrucciones dentro de la función).\n",
        "\n",
        "Te devuelve un resultado (salida o retorno).\n",
        "\n",
        "💬 Ejemplo en la vida real:\n",
        "Piensa en una licuadora → le metes frutas y agua, la enciendes, y ella te devuelve un jugo 🍹.\n",
        "\n",
        "En Python pasa lo mismo: defines la función, le das datos y te devuelve un resultado."
      ],
      "metadata": {
        "id": "BV9z5QNhqob1"
      }
    },
    {
      "cell_type": "markdown",
      "source": [
        "# 🔹 ¿Cómo se crea una función?\n",
        "La palabra clave es def (de “define”):"
      ],
      "metadata": {
        "id": "6sieWsBvqrm0"
      }
    },
    {
      "cell_type": "code",
      "source": [
        "def nombre_de_la_funcion():\n",
        "    # Bloque de código\n",
        "    # Lo que la función hará"
      ],
      "metadata": {
        "id": "RrQBLuNNqUXC"
      },
      "execution_count": null,
      "outputs": []
    },
    {
      "cell_type": "markdown",
      "source": [
        "✅ Ejemplo 1: Una función que saluda"
      ],
      "metadata": {
        "id": "hUF8wUnfqzzR"
      }
    },
    {
      "cell_type": "code",
      "source": [
        "def saludar():\n",
        "    print(\"¡Hola! Bienvenido a Python\")"
      ],
      "metadata": {
        "id": "wLJZEYUBq0YM"
      },
      "execution_count": null,
      "outputs": []
    },
    {
      "cell_type": "markdown",
      "source": [
        "📌 Para usarla (llamarla):"
      ],
      "metadata": {
        "id": "5LulWt9Vq6_D"
      }
    },
    {
      "cell_type": "markdown",
      "source": [
        "saludar()\n"
      ],
      "metadata": {
        "id": "cUevakfAq8Ku"
      }
    },
    {
      "cell_type": "markdown",
      "source": [
        "➡️ Resultado:"
      ],
      "metadata": {
        "id": "NvkqLIJ7q9wG"
      }
    },
    {
      "cell_type": "markdown",
      "source": [
        "¡Hola! Bienvenido a Python\n"
      ],
      "metadata": {
        "id": "WgQ2RdCtrAOw"
      }
    },
    {
      "cell_type": "markdown",
      "source": [
        "# 🔹 Funciones con parámetros\n",
        "Un parámetro es un dato que la función necesita para trabajar."
      ],
      "metadata": {
        "id": "an8Bu-O7rEWg"
      }
    },
    {
      "cell_type": "code",
      "source": [
        "def saludar_persona(nombre):\n",
        "    print(\"Hola,\", nombre)"
      ],
      "metadata": {
        "id": "zpO5VRVNq7rw"
      },
      "execution_count": null,
      "outputs": []
    },
    {
      "cell_type": "markdown",
      "source": [
        "📌 Usando la función:"
      ],
      "metadata": {
        "id": "jCrgvEDNrMEx"
      }
    },
    {
      "cell_type": "code",
      "source": [
        "saludar_persona(\"Carlos\")\n",
        "saludar_persona(\"Ana\")"
      ],
      "metadata": {
        "id": "lzLKs6Y6rMzI"
      },
      "execution_count": null,
      "outputs": []
    },
    {
      "cell_type": "markdown",
      "source": [
        "➡️ Resultado:"
      ],
      "metadata": {
        "id": "L3dCcoLerOcT"
      }
    },
    {
      "cell_type": "code",
      "source": [
        "# Hola, Carlos\n",
        "# Hola, Ana"
      ],
      "metadata": {
        "id": "9f7estbjrP6Z"
      },
      "execution_count": null,
      "outputs": []
    },
    {
      "cell_type": "markdown",
      "source": [
        "# 🔹 Funciones que devuelven un valor (return)\n",
        "Si quieres que la función te devuelva un resultado (como una calculadora), usas return."
      ],
      "metadata": {
        "id": "abk4h7VTrVeR"
      }
    },
    {
      "cell_type": "code",
      "source": [
        "def sumar(a, b):\n",
        "    return a + b"
      ],
      "metadata": {
        "id": "ZxRmkprDrbB7"
      },
      "execution_count": null,
      "outputs": []
    },
    {
      "cell_type": "markdown",
      "source": [
        "📌 Usando la función:"
      ],
      "metadata": {
        "id": "VbHT-zlsrgF4"
      }
    },
    {
      "cell_type": "code",
      "source": [
        "resultado = sumar(5, 7)\n",
        "print(\"La suma es:\", resultado)"
      ],
      "metadata": {
        "id": "5qDcdrqure8Q"
      },
      "execution_count": null,
      "outputs": []
    },
    {
      "cell_type": "markdown",
      "source": [
        "➡️ Resultado:"
      ],
      "metadata": {
        "id": "S1GpY4d6rjrh"
      }
    },
    {
      "cell_type": "code",
      "source": [
        "# La suma es: 12"
      ],
      "metadata": {
        "id": "Rx9Y8cQErkUL"
      },
      "execution_count": null,
      "outputs": []
    },
    {
      "cell_type": "markdown",
      "source": [
        "# 🔹 Parámetros con valores por defecto\n",
        "Puedes dar un valor por defecto a un parámetro, en caso de que no se envíe nada."
      ],
      "metadata": {
        "id": "n21V0Pkfrrln"
      }
    },
    {
      "cell_type": "code",
      "source": [
        "def saludar(nombre=\"invitado\"):\n",
        "    print(\"Hola,\", nombre)"
      ],
      "metadata": {
        "id": "_qCYlzXervYf"
      },
      "execution_count": null,
      "outputs": []
    },
    {
      "cell_type": "markdown",
      "source": [
        "📌 Usando la función:"
      ],
      "metadata": {
        "id": "7bIFg4PQrzS0"
      }
    },
    {
      "cell_type": "code",
      "source": [
        "saludar(\"María\")\n",
        "saludar()   # No le paso nada"
      ],
      "metadata": {
        "id": "L4xyjW12rz3l"
      },
      "execution_count": null,
      "outputs": []
    },
    {
      "cell_type": "markdown",
      "source": [
        "➡️ Resultado:"
      ],
      "metadata": {
        "id": "uf6fgg50r3t_"
      }
    },
    {
      "cell_type": "code",
      "source": [
        "# Hola, María\n",
        "# Hola, invitado"
      ],
      "metadata": {
        "id": "tCNYxfror7sg"
      },
      "execution_count": null,
      "outputs": []
    },
    {
      "cell_type": "markdown",
      "source": [
        "# 🔹 Funciones con múltiples resultados\n",
        "Una función puede devolver más de un valor (como si regresara una “bolsa de cosas”)."
      ],
      "metadata": {
        "id": "7Oa9X1iyr1_3"
      }
    },
    {
      "cell_type": "code",
      "source": [
        "def operaciones(a, b):\n",
        "    suma = a + b\n",
        "    resta = a - b\n",
        "    return suma, resta"
      ],
      "metadata": {
        "id": "3iCO6W0AsXw-"
      },
      "execution_count": null,
      "outputs": []
    },
    {
      "cell_type": "markdown",
      "source": [
        "📌 Usando la función:"
      ],
      "metadata": {
        "id": "Zmz0b9aVsbNm"
      }
    },
    {
      "cell_type": "code",
      "source": [
        "resultado_suma, resultado_resta = operaciones(10, 5)\n",
        "print(\"Suma:\", resultado_suma)\n",
        "print(\"Resta:\", resultado_resta)"
      ],
      "metadata": {
        "id": "IV0TnlUGsZoR"
      },
      "execution_count": null,
      "outputs": []
    },
    {
      "cell_type": "markdown",
      "source": [
        "➡️ Resultado:"
      ],
      "metadata": {
        "id": "_ko2qjebsdV_"
      }
    },
    {
      "cell_type": "code",
      "source": [
        "# Suma: 15\n",
        "# Resta: 5"
      ],
      "metadata": {
        "id": "rgMZABV7sgrh"
      },
      "execution_count": null,
      "outputs": []
    },
    {
      "cell_type": "markdown",
      "source": [
        "# 🔹 Funciones útiles ya integradas en Python\n",
        "Python trae muchas funciones listas para usar:"
      ],
      "metadata": {
        "id": "UnfRWM6Tslv7"
      }
    },
    {
      "cell_type": "code",
      "source": [
        "print(len(\"Hola\"))         # Cuenta la cantidad de caracteres → 4\n",
        "print(max([10, 20, 5]))    # Máximo de una lista → 20\n",
        "print(min([10, 20, 5]))    # Mínimo de una lista → 5\n",
        "print(type(3.14))          # Muestra el tipo de dato → <class 'float'>"
      ],
      "metadata": {
        "id": "AS3fUeZcsqiB"
      },
      "execution_count": null,
      "outputs": []
    },
    {
      "cell_type": "markdown",
      "source": [
        "# 🎯 Resumen de funciones"
      ],
      "metadata": {
        "id": "RVEL2Y2kswke"
      }
    },
    {
      "cell_type": "markdown",
      "source": [
        "| Concepto       | Explicación                                 |\n",
        "| -------------- | ------------------------------------------- |\n",
        "| `def`          | Se usa para crear funciones                 |\n",
        "| Parámetros     | Datos que recibe la función                 |\n",
        "| `return`       | Devuelve un resultado                       |\n",
        "| Llamar función | Escribir su nombre y pasarle los parámetros |\n"
      ],
      "metadata": {
        "id": "L4Ikjv7bstIv"
      }
    },
    {
      "cell_type": "markdown",
      "source": [
        "# 🧩 Sección 7: Listas (list)\n",
        "Las listas son colecciones ordenadas y modificables (mutables). Guardan elementos en secuencia y pueden mezclar tipos."
      ],
      "metadata": {
        "id": "VmnKkNG5tg3x"
      }
    },
    {
      "cell_type": "markdown",
      "source": [
        "✅ Crear y acceder"
      ],
      "metadata": {
        "id": "dK9tkAmFtnED"
      }
    },
    {
      "cell_type": "code",
      "source": [
        "# Crear listas\n",
        "vacia = []\n",
        "numeros = [10, 20, 30]\n",
        "mixta = [1, \"hola\", True, 3.14]\n",
        "\n",
        "# Acceder por índice (empieza en 0)\n",
        "print(numeros[0])   # 10\n",
        "print(numeros[-1])  # 30 (último)\n",
        "\n",
        "# Rebanadas (slicing)\n",
        "print(numeros[0:2])  # [10, 20]\n",
        "print(numeros[:2])   # [10, 20]\n",
        "print(numeros[1:])   # [20, 30]"
      ],
      "metadata": {
        "id": "zuynqmHesuc0"
      },
      "execution_count": null,
      "outputs": []
    },
    {
      "cell_type": "markdown",
      "source": [
        "✍️ Modificar"
      ],
      "metadata": {
        "id": "qFdEDXSctqmb"
      }
    },
    {
      "cell_type": "code",
      "source": [
        "frutas = [\"manzana\", \"banano\", \"uva\"]\n",
        "\n",
        "# Cambiar un valor\n",
        "frutas[1] = \"banana\"\n",
        "\n",
        "# Agregar\n",
        "frutas.append(\"mango\")             # al final\n",
        "frutas.insert(1, \"pera\")           # en posición 1\n",
        "frutas.extend([\"kiwi\", \"papaya\"])  # varios a la vez\n",
        "\n",
        "print(frutas)"
      ],
      "metadata": {
        "id": "yUkAtmOAtrHz"
      },
      "execution_count": null,
      "outputs": []
    },
    {
      "cell_type": "markdown",
      "source": [
        "🧰 Métodos útiles"
      ],
      "metadata": {
        "id": "c9byttixtt2j"
      }
    },
    {
      "cell_type": "code",
      "source": [
        "nums = [5, 3, 8, 3, 2]\n",
        "\n",
        "# Eliminar\n",
        "nums.remove(3)   # elimina la PRIMERA coincidencia de 3\n",
        "x = nums.pop()   # quita el último y lo retorna\n",
        "# nums.clear()   # vacía la lista\n",
        "\n",
        "# Buscar\n",
        "print(nums.index(8))   # posición de 8\n",
        "print(nums.count(3))   # cuántos 3 hay\n",
        "\n",
        "# Ordenar\n",
        "nums.sort()            # orden ascendente\n",
        "nums.reverse()         # invierte el orden\n",
        "print(nums)"
      ],
      "metadata": {
        "id": "tKVcqRuNtvUA"
      },
      "execution_count": null,
      "outputs": []
    },
    {
      "cell_type": "markdown",
      "source": [
        "🔁 Recorrer listas"
      ],
      "metadata": {
        "id": "rOfzYVjdt0TN"
      }
    },
    {
      "cell_type": "code",
      "source": [
        "nombres = [\"Ana\", \"Luis\", \"Carlos\"]\n",
        "\n",
        "# Forma 1\n",
        "for nombre in nombres:\n",
        "    print(\"Hola\", nombre)\n",
        "\n",
        "# Con índice\n",
        "for i, nombre in enumerate(nombres):\n",
        "    print(i, \"→\", nombre)"
      ],
      "metadata": {
        "id": "Y0uzDvuet0xT"
      },
      "execution_count": null,
      "outputs": []
    },
    {
      "cell_type": "markdown",
      "source": [
        "⚡ List Comprehensions (creación compacta)"
      ],
      "metadata": {
        "id": "wc_GCPxst2wr"
      }
    },
    {
      "cell_type": "code",
      "source": [
        "# Cuadrados del 0 al 9\n",
        "cuadrados = [x**2 for x in range(10)]\n",
        "print(cuadrados)\n",
        "\n",
        "# Filtrar pares\n",
        "pares = [x for x in range(10) if x % 2 == 0]\n",
        "print(pares)"
      ],
      "metadata": {
        "id": "wBEpIHO6t4cn"
      },
      "execution_count": null,
      "outputs": []
    },
    {
      "cell_type": "markdown",
      "source": [
        "🧯 Errores comunes (rápidos)\n",
        "\n",
        "lista[100] → Índice fuera de rango.\n",
        "\n",
        "remove(x) falla si x no está en la lista."
      ],
      "metadata": {
        "id": "LFYip8vcuGID"
      }
    },
    {
      "cell_type": "markdown",
      "source": [
        "# 🧪 Mini-ejercicios (rápidos)"
      ],
      "metadata": {
        "id": "gWX3tJYquHLr"
      }
    },
    {
      "cell_type": "code",
      "source": [
        "# 1) Crea una lista de 5 números y:\n",
        "# - súmale 10 a cada uno con list comprehension\n",
        "# - quédate solo con los > 20\n",
        "\n",
        "# 2) De [\"a\",\"b\",\"c\",\"b\",\"a\"] elimina duplicados manteniendo orden final (tip: usa un set auxiliar)\n"
      ],
      "metadata": {
        "id": "qDb8ros7uJ_p"
      },
      "execution_count": null,
      "outputs": []
    },
    {
      "cell_type": "markdown",
      "source": [
        "# 🧱 Sección 8: Tuplas (tuple)\n",
        "Las tuplas son como las listas, pero inmutables (no se pueden cambiar). Útiles para datos que NO deben modificarse o para usarlas como claves en diccionarios."
      ],
      "metadata": {
        "id": "axWYLhY_uNjh"
      }
    },
    {
      "cell_type": "markdown",
      "source": [
        "✅ Crear y usar"
      ],
      "metadata": {
        "id": "CHnCkBwOuTeV"
      }
    },
    {
      "cell_type": "code",
      "source": [
        "coordenada = (10, 20)\n",
        "persona = (\"Carlos\", 25)\n",
        "\n",
        "print(coordenada[0])   # 10\n",
        "print(len(persona))    # 2"
      ],
      "metadata": {
        "id": "PgHuB_QCuQrG"
      },
      "execution_count": null,
      "outputs": []
    },
    {
      "cell_type": "markdown",
      "source": [
        "📦 Packing / Unpacking"
      ],
      "metadata": {
        "id": "IUGeULUmuXsJ"
      }
    },
    {
      "cell_type": "code",
      "source": [
        "# Empaquetado\n",
        "punto = 3, 4     # crea (3, 4)\n",
        "\n",
        "# Desempaquetado\n",
        "x, y = punto\n",
        "print(x, y)      # 3 4\n",
        "\n",
        "# Intercambio rápido de variables\n",
        "a, b = 1, 2\n",
        "a, b = b, a\n",
        "print(a, b)      # 2 1"
      ],
      "metadata": {
        "id": "h5_AsIMIuWHW"
      },
      "execution_count": null,
      "outputs": []
    },
    {
      "cell_type": "markdown",
      "source": [
        "🔎 Métodos disponibles"
      ],
      "metadata": {
        "id": "2To7I0rPubUZ"
      }
    },
    {
      "cell_type": "code",
      "source": [
        "t = (1, 2, 2, 3)\n",
        "print(t.count(2))  # 2\n",
        "print(t.index(3))  # 3 está en el índice 3-1? no, ojo:\n",
        "# index retorna la primera posición exacta de ese valor\n",
        "print(t.index(3))  # 3 está en el índice 3? No: t = (1,2,2,3) -> índice de 3 es 3? Sí, del 0 al 3."
      ],
      "metadata": {
        "id": "rK9MhNZJubza"
      },
      "execution_count": null,
      "outputs": []
    },
    {
      "cell_type": "markdown",
      "source": [
        "(Nota: arriba, el índice de 3 es 3 porque t[3] == 3.)"
      ],
      "metadata": {
        "id": "Q1Yy0nbeufFz"
      }
    },
    {
      "cell_type": "markdown",
      "source": [
        "🔁 Conversión lista ↔ tupla"
      ],
      "metadata": {
        "id": "zUvY8AyeuheN"
      }
    },
    {
      "cell_type": "code",
      "source": [
        "lista = [1, 2, 3]\n",
        "tupla = tuple(lista)\n",
        "otra_lista = list(tupla)"
      ],
      "metadata": {
        "id": "TDZ-uAbxufvN"
      },
      "execution_count": null,
      "outputs": []
    },
    {
      "cell_type": "markdown",
      "source": [
        "🧪 Mini-ejercicio"
      ],
      "metadata": {
        "id": "Hze53EnCuw0m"
      }
    },
    {
      "cell_type": "code",
      "source": [
        "# Dada la tupla t = (\"DR\", \"Santo Domingo\", 3000000)\n",
        "# Desempaquétala en variables pais, ciudad, poblacion y muéstralas formateadas."
      ],
      "metadata": {
        "id": "i5r6dJytuzVA"
      },
      "execution_count": null,
      "outputs": []
    },
    {
      "cell_type": "markdown",
      "source": [
        "# 🔐 Sección 9: Diccionarios (dict)\n",
        "\n",
        "Un diccionario guarda pares clave:valor. Las claves suelen ser strings o números (deben ser inmutables). Permiten acceso rápido por clave."
      ],
      "metadata": {
        "id": "mF3EXABku3qe"
      }
    },
    {
      "cell_type": "markdown",
      "source": [
        "✅ Crear y acceder"
      ],
      "metadata": {
        "id": "xeGMtzstvBFU"
      }
    },
    {
      "cell_type": "code",
      "source": [
        "persona = {\n",
        "    \"nombre\": \"Carlos\",\n",
        "    \"edad\": 25,\n",
        "    \"ciudad\": \"Santo Domingo\"\n",
        "}\n",
        "\n",
        "print(persona[\"nombre\"])        # Carlos\n",
        "print(persona.get(\"email\"))     # None (no rompe si no existe)\n",
        "print(persona.get(\"email\", \"N/D\"))  # valor por defecto"
      ],
      "metadata": {
        "id": "GUTO5KBBu5Q2"
      },
      "execution_count": null,
      "outputs": []
    },
    {
      "cell_type": "markdown",
      "source": [
        "✍️ Agregar / actualizar / eliminar"
      ],
      "metadata": {
        "id": "FwTb5kFFvHSm"
      }
    },
    {
      "cell_type": "code",
      "source": [
        "persona[\"email\"] = \"carlos@mail.com\"   # agregar\n",
        "persona[\"edad\"] = 26                   # actualizar\n",
        "email = persona.pop(\"email\")           # eliminar y retornar\n",
        "# persona.clear()                      # vaciar todo\n",
        "\n",
        "print(persona)"
      ],
      "metadata": {
        "id": "uiCLy7SPvH51"
      },
      "execution_count": null,
      "outputs": []
    },
    {
      "cell_type": "markdown",
      "source": [
        "🔁 Recorrer diccionarios"
      ],
      "metadata": {
        "id": "0voyPu6zvLMq"
      }
    },
    {
      "cell_type": "code",
      "source": [
        "# Solo claves\n",
        "for k in persona.keys():\n",
        "    print(\"Clave:\", k)\n",
        "\n",
        "# Solo valores\n",
        "for v in persona.values():\n",
        "    print(\"Valor:\", v)\n",
        "\n",
        "# Clave y valor\n",
        "for k, v in persona.items():\n",
        "    print(k, \"→\", v)"
      ],
      "metadata": {
        "id": "gPlaA0KuvNfR"
      },
      "execution_count": null,
      "outputs": []
    },
    {
      "cell_type": "markdown",
      "source": [
        "🧰 Métodos útiles"
      ],
      "metadata": {
        "id": "GQayaDUNvM-X"
      }
    },
    {
      "cell_type": "code",
      "source": [
        "a = {\"x\": 1, \"y\": 2}\n",
        "b = {\"y\": 20, \"z\": 3}\n",
        "\n",
        "a.update(b)        # mezcla: sobrescribe y agrega\n",
        "print(a)           # {'x': 1, 'y': 20, 'z': 3}\n",
        "\n",
        "# setdefault: retorna el valor si existe; si no, lo crea con el valor dado\n",
        "contadores = {}\n",
        "contadores.setdefault(\"clicks\", 0)\n",
        "contadores[\"clicks\"] += 1\n",
        "print(contadores)  # {'clicks': 1}"
      ],
      "metadata": {
        "id": "cU2nHAEKvQ_6"
      },
      "execution_count": null,
      "outputs": []
    },
    {
      "cell_type": "markdown",
      "source": [
        "📦 Diccionarios anidados"
      ],
      "metadata": {
        "id": "M50UkTYVvUAB"
      }
    },
    {
      "cell_type": "code",
      "source": [
        "agenda = {\n",
        "    \"Ana\": {\"telefono\": \"111-111\", \"edad\": 20},\n",
        "    \"Luis\": {\"telefono\": \"222-222\", \"edad\": 22},\n",
        "}\n",
        "\n",
        "print(agenda[\"Ana\"][\"telefono\"])  # 111-111"
      ],
      "metadata": {
        "id": "vy_75wGHvUpY"
      },
      "execution_count": null,
      "outputs": []
    },
    {
      "cell_type": "markdown",
      "source": [
        "⚡ Dict Comprehensions"
      ],
      "metadata": {
        "id": "cLLsZEu8vWZp"
      }
    },
    {
      "cell_type": "code",
      "source": [
        "# Elevar al cuadrado valores del 1 al 5\n",
        "cuadrados = {x: x**2 for x in range(1, 6)}\n",
        "print(cuadrados)\n",
        "\n",
        "# Invertir claves/valores (si los valores son únicos)\n",
        "d = {\"a\": 1, \"b\": 2, \"c\": 3}\n",
        "invertido = {v: k for k, v in d.items()}\n",
        "print(invertido)"
      ],
      "metadata": {
        "id": "p0T31ZFHvYVG"
      },
      "execution_count": null,
      "outputs": []
    },
    {
      "cell_type": "markdown",
      "source": [
        "🧯 Errores comunes\n",
        "\n",
        "dic[\"clave_inexistente\"] → KeyError. Usa get() si no estás seguro.\n",
        "\n",
        "Claves mutables (como listas) no se permiten."
      ],
      "metadata": {
        "id": "q6fFaDzmvaIF"
      }
    },
    {
      "cell_type": "markdown",
      "source": [
        "# 🧪 Mini-ejercicio"
      ],
      "metadata": {
        "id": "I3Gkb2oDve3C"
      }
    },
    {
      "cell_type": "code",
      "source": [
        "# Crea un dict de producto con nombre, precio y stock.\n",
        "# - Aumenta el stock en 10.\n",
        "# - Si no tiene \"categoria\", ponla en \"General\" con setdefault.\n",
        "# - Recorre e imprime \"clave: valor\"."
      ],
      "metadata": {
        "id": "ApEdd3VjvdGC"
      },
      "execution_count": null,
      "outputs": []
    },
    {
      "cell_type": "markdown",
      "source": [
        "# 🎲 Sección 10: Conjuntos (set)\n",
        "Los sets son colecciones de elementos únicos, sin orden y sin índices. Son súper rápidos para verificar pertenencia y eliminar duplicados."
      ],
      "metadata": {
        "id": "HkR_2_FFvkkL"
      }
    },
    {
      "cell_type": "markdown",
      "source": [
        "✅ Crear y propiedades"
      ],
      "metadata": {
        "id": "3lL3Bl9uvqAF"
      }
    },
    {
      "cell_type": "code",
      "source": [
        "vacio = set()\n",
        "colores = {\"rojo\", \"verde\", \"azul\", \"rojo\"}  # el duplicado se elimina\n",
        "print(colores)  # {'rojo', 'verde', 'azul'} (el orden puede variar)\n",
        "\n",
        "# Convertir lista → set para quitar duplicados\n",
        "lista = [1, 2, 2, 3, 3, 3]\n",
        "sin_dups = set(lista)\n",
        "print(sin_dups)      # {1, 2, 3}"
      ],
      "metadata": {
        "id": "MP5_tWLtvljt"
      },
      "execution_count": null,
      "outputs": []
    },
    {
      "cell_type": "markdown",
      "source": [
        "✍️ Agregar y eliminar"
      ],
      "metadata": {
        "id": "n5xkM2mmvtdo"
      }
    },
    {
      "cell_type": "code",
      "source": [
        "s = {1, 2, 3}\n",
        "s.add(4)\n",
        "s.update([5, 6])     # agrega varios\n",
        "\n",
        "s.remove(2)          # error si no existe\n",
        "s.discard(10)        # NO error si no existe\n",
        "x = s.pop()          # quita un elemento \"cualquiera\"\n",
        "print(s)"
      ],
      "metadata": {
        "id": "TaPcC1levuDR"
      },
      "execution_count": null,
      "outputs": []
    },
    {
      "cell_type": "markdown",
      "source": [
        "🧮 Operaciones de conjuntos"
      ],
      "metadata": {
        "id": "Lmj1b2wWvve7"
      }
    },
    {
      "cell_type": "code",
      "source": [
        "A = {1, 2, 3, 4}\n",
        "B = {3, 4, 5}\n",
        "\n",
        "print(A | B)   # unión → {1,2,3,4,5}\n",
        "print(A & B)   # intersección → {3,4}\n",
        "print(A - B)   # diferencia → {1,2}\n",
        "print(A ^ B)   # diferencia simétrica → {1,2,5}"
      ],
      "metadata": {
        "id": "L7YvFe33vxIH"
      },
      "execution_count": null,
      "outputs": []
    },
    {
      "cell_type": "markdown",
      "source": [
        "❄️ frozenset"
      ],
      "metadata": {
        "id": "hktLeEFUv1CR"
      }
    },
    {
      "cell_type": "code",
      "source": [
        "# Inmutable (como tupla, pero de set). Útil para usar como clave en dicts.\n",
        "fs = frozenset([1, 2, 3])\n",
        "# fs.add(4)  # Error: no se puede modificar"
      ],
      "metadata": {
        "id": "WBZBvPiTvy5x"
      },
      "execution_count": null,
      "outputs": []
    },
    {
      "cell_type": "markdown",
      "source": [
        "# 🧪 Mini-ejercicio"
      ],
      "metadata": {
        "id": "HODUNb56v8hK"
      }
    },
    {
      "cell_type": "code",
      "source": [
        "# Dada la lista [\"a\",\"b\",\"a\",\"c\",\"b\",\"d\"]:\n",
        "# - Convierte a set para quitar duplicados.\n",
        "# - Verifica si \"c\" está en el set.\n",
        "# - Calcula la unión e intersección con {\"c\",\"e\",\"f\"}."
      ],
      "metadata": {
        "id": "hX6RgYIpv-OE"
      },
      "execution_count": null,
      "outputs": []
    },
    {
      "cell_type": "markdown",
      "source": [
        "# 🧠 Resumen rápido de colecciones"
      ],
      "metadata": {
        "id": "ggUJQEOnwBsU"
      }
    },
    {
      "cell_type": "markdown",
      "source": [
        "| Tipo  | Mutable | Ordenada | Elementos repetidos | Indexable |\n",
        "| ----- | ------- | -------- | ------------------- | --------- |\n",
        "| list  | Sí      | Sí       | Sí                  | Sí        |\n",
        "| tuple | No      | Sí       | Sí                  | Sí        |\n",
        "| dict  | Sí      | Sí\\*     | Claves únicas       | Por clave |\n",
        "| set   | Sí      | No       | No                  | No        |\n"
      ],
      "metadata": {
        "id": "Yb0t3RkKwDza"
      }
    },
    {
      "cell_type": "markdown",
      "source": [
        "# 🏁 Mini-reto integrador (opcional)"
      ],
      "metadata": {
        "id": "L8Y9yA_fwKZS"
      }
    },
    {
      "cell_type": "code",
      "source": [
        "# 1) Tienes una lista de alumnos con notas:\n",
        "alumnos = [\n",
        "    {\"nombre\": \"Ana\", \"nota\": 90},\n",
        "    {\"nombre\": \"Luis\", \"nota\": 75},\n",
        "    {\"nombre\": \"Carlos\", \"nota\": 60},\n",
        "    {\"nombre\": \"Ana\", \"nota\": 95},  # nombre repetido\n",
        "]\n",
        "\n",
        "# a) Qué nombres únicos hay (usa set).\n",
        "# b) Crea una lista con nombres de aprobados (nota >= 70).\n",
        "# c) Crea un dict {nombre: mejor_nota} (si un nombre se repite, guarda la mayor)."
      ],
      "metadata": {
        "id": "AzMGBzyRwEg-"
      },
      "execution_count": null,
      "outputs": []
    }
  ]
}